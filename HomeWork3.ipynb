{
  "nbformat": 4,
  "nbformat_minor": 0,
  "metadata": {
    "colab": {
      "provenance": [],
      "authorship_tag": "ABX9TyM/UDP5aSZjy8ojEgkee9LB",
      "include_colab_link": true
    },
    "kernelspec": {
      "name": "python3",
      "display_name": "Python 3"
    },
    "language_info": {
      "name": "python"
    }
  },
  "cells": [
    {
      "cell_type": "markdown",
      "metadata": {
        "id": "view-in-github",
        "colab_type": "text"
      },
      "source": [
        "<a href=\"https://colab.research.google.com/github/KimGenSu/HW_HSE_KimGenSu/blob/main/HomeWork3.ipynb\" target=\"_parent\"><img src=\"https://colab.research.google.com/assets/colab-badge.svg\" alt=\"Open In Colab\"/></a>"
      ]
    },
    {
      "cell_type": "code",
      "execution_count": 1,
      "metadata": {
        "colab": {
          "base_uri": "https://localhost:8080/"
        },
        "id": "ONpGlTit7Hnw",
        "outputId": "ef97df94-7ed2-45ab-d0a8-8c34a9761774"
      },
      "outputs": [
        {
          "output_type": "stream",
          "name": "stdout",
          "text": [
            "{'milk15': False, 'cheese': True, 'sausage': False}\n"
          ]
        }
      ],
      "source": [
        "items = {\n",
        "    'milk15': {'name': 'молоко 1.5%', 'count': 34, 'price': 89.9},\n",
        "    'cheese': {'name': 'сыр молочный 1 кг.', 'count': 12, 'price': 990.9},\n",
        "    'sausage': {'name': 'колбаса 1 кг.', 'count': 122, 'price': 1990.9}\n",
        "}\n",
        "price_less_20 = {key: item['count'] < 20 for key, item in items.items()}\n",
        "print(price_less_20)"
      ]
    }
  ]
}