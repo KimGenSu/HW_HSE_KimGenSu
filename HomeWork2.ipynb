{
  "nbformat": 4,
  "nbformat_minor": 0,
  "metadata": {
    "colab": {
      "provenance": [],
      "authorship_tag": "ABX9TyP272XMCoFg8ucfQ7o9j0w1",
      "include_colab_link": true
    },
    "kernelspec": {
      "name": "python3",
      "display_name": "Python 3"
    },
    "language_info": {
      "name": "python"
    }
  },
  "cells": [
    {
      "cell_type": "markdown",
      "metadata": {
        "id": "view-in-github",
        "colab_type": "text"
      },
      "source": [
        "<a href=\"https://colab.research.google.com/github/KimGenSu/HW_HSE_KimGenSu/blob/main/HomeWork2.ipynb\" target=\"_parent\"><img src=\"https://colab.research.google.com/assets/colab-badge.svg\" alt=\"Open In Colab\"/></a>"
      ]
    },
    {
      "cell_type": "code",
      "execution_count": null,
      "metadata": {
        "colab": {
          "base_uri": "https://localhost:8080/"
        },
        "id": "UgOSAk8lsts2",
        "outputId": "e3760ee8-80a4-4a49-cc79-b1d44bc93699"
      },
      "outputs": [
        {
          "output_type": "stream",
          "name": "stdout",
          "text": [
            "word\n",
            "words\n",
            "две средних буквы, если число букв чётное для слова 'word', Результат: or\n",
            "средняя буква, если число букв в слове нечётное 'words', Результат: r\n"
          ]
        }
      ],
      "source": [
        "def letters_find (word):\n",
        "    length = len(word)\n",
        "    if length % 2 == 0:\n",
        "        middle_index = length // 2\n",
        "        return word[middle_index - 1:middle_index + 1]\n",
        "    else:\n",
        "        middle_index = length // 2\n",
        "        return word[middle_index]\n",
        "word1 = input();\n",
        "word2 = input();\n",
        "print(f\"две средних буквы, если число букв чётное для слова '{word1}', Результат: {letters_find(word1)}\")\n",
        "print(f\"средняя буква, если число букв в слове нечётное '{word2}', Результат: {letters_find(word2)}\")\n"
      ]
    }
  ]
}