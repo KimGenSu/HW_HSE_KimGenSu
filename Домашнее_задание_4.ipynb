{
  "nbformat": 4,
  "nbformat_minor": 0,
  "metadata": {
    "colab": {
      "provenance": [],
      "authorship_tag": "ABX9TyNseux+ZPhrgHl3neoefDx+",
      "include_colab_link": true
    },
    "kernelspec": {
      "name": "python3",
      "display_name": "Python 3"
    },
    "language_info": {
      "name": "python"
    }
  },
  "cells": [
    {
      "cell_type": "markdown",
      "metadata": {
        "id": "view-in-github",
        "colab_type": "text"
      },
      "source": [
        "<a href=\"https://colab.research.google.com/github/KimGenSu/HW_HSE_KimGenSu/blob/main/%D0%94%D0%BE%D0%BC%D0%B0%D1%88%D0%BD%D0%B5%D0%B5_%D0%B7%D0%B0%D0%B4%D0%B0%D0%BD%D0%B8%D0%B5_4.ipynb\" target=\"_parent\"><img src=\"https://colab.research.google.com/assets/colab-badge.svg\" alt=\"Open In Colab\"/></a>"
      ]
    },
    {
      "cell_type": "code",
      "execution_count": 1,
      "metadata": {
        "colab": {
          "base_uri": "https://localhost:8080/"
        },
        "id": "wWs1ZJbSTamS",
        "outputId": "8487ab07-f48d-4f9f-f093-90ca155be200"
      },
      "outputs": [
        {
          "output_type": "stream",
          "name": "stdout",
          "text": [
            "Доступные команды:\n",
            "p - узнать владельца документа\n",
            "q - выйти из программы\n",
            "\n",
            "Введите команду: p\n",
            "Введите номер документа: 10006\n",
            "Владелец документа: Аристарх Павлов\n",
            "\n",
            "Введите команду: p\n",
            "Введите номер документа: 11-2\n",
            "Владелец документа: Геннадий Покемонов\n",
            "\n",
            "Введите команду: p\n",
            "Введите номер документа: 515\n",
            "Документ не найден\n",
            "\n",
            "Введите команду: q\n",
            "Программа завершена\n"
          ]
        }
      ],
      "source": [
        "documents = [\n",
        "    {'type': 'passport', 'number': '2207 876234', 'name': 'Василий Пупкин'},\n",
        "    {'type': 'invoice', 'number': '11-2', 'name': 'Геннадий Покемонов'},\n",
        "    {'type': 'insurance', 'number': '10006', 'name': 'Аристарх Павлов'}\n",
        "]\n",
        "\n",
        "directories = {\n",
        "    '1': ['2207 876234', '11-2'],\n",
        "    '2': ['10006'],\n",
        "    '3': []\n",
        "}\n",
        "\n",
        "def find_document_owner(doc_number):\n",
        "    \"\"\"\n",
        "    Функция для поиска владельца документа по его номеру\n",
        "    \"\"\"\n",
        "    for doc in documents:\n",
        "        if doc['number'] == doc_number:\n",
        "            return doc['name']\n",
        "    return None\n",
        "\n",
        "def handle_command_p():\n",
        "    \"\"\"\n",
        "    Обработчик команды p - поиск владельца документа\n",
        "    \"\"\"\n",
        "    doc_number = input(\"Введите номер документа: \")\n",
        "    owner = find_document_owner(doc_number)\n",
        "    if owner:\n",
        "        print(f\"Владелец документа: {owner}\")\n",
        "    else:\n",
        "        print(\"Документ не найден\")\n",
        "\n",
        "def main_menu():\n",
        "    \"\"\"\n",
        "    Основное меню программы\n",
        "    \"\"\"\n",
        "    print(\"Доступные команды:\")\n",
        "    print(\"p - узнать владельца документа\")\n",
        "    print(\"q - выйти из программы\")\n",
        "\n",
        "    while True:\n",
        "        command = input(\"\\nВведите команду: \").strip().lower()\n",
        "\n",
        "        if command == 'p':\n",
        "            handle_command_p()\n",
        "        elif command == 'q':\n",
        "            print(\"Программа завершена\")\n",
        "            break\n",
        "        else:\n",
        "            print(\"Неверная команда. Попробуйте снова.\")\n",
        "\n",
        "if __name__ == \"__main__\":\n",
        "    main_menu()\n"
      ]
    }
  ]
}